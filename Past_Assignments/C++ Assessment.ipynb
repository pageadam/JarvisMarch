{
 "cells": [
  {
   "cell_type": "markdown",
   "id": "e80fb5e5",
   "metadata": {},
   "source": [
    "# C++ Assesment"
   ]
  },
  {
   "cell_type": "markdown",
   "id": "4ce6301e",
   "metadata": {},
   "source": [
    "## Part 1"
   ]
  },
  {
   "cell_type": "code",
   "execution_count": 1,
   "id": "bd9d41c7",
   "metadata": {},
   "outputs": [
    {
     "data": {
      "text/plain": []
     },
     "execution_count": 1,
     "metadata": {},
     "output_type": "execute_result"
    }
   ],
   "source": [
    "#include <iostream>\n",
    "#include <cmath>\n",
    "#include <vector>\n",
    "#include <algorithm>"
   ]
  },
  {
   "cell_type": "markdown",
   "id": "77a3e849",
   "metadata": {},
   "source": [
    "We have been provided the following bit of code, the Point member functions operator+, dist and print have been added for later use:"
   ]
  },
  {
   "cell_type": "code",
   "execution_count": 2,
   "id": "5f9ddf3a",
   "metadata": {},
   "outputs": [
    {
     "data": {
      "text/plain": []
     },
     "execution_count": 2,
     "metadata": {},
     "output_type": "execute_result"
    }
   ],
   "source": [
    "struct Point\n",
    "{\n",
    "    double x;\n",
    "    double y;\n",
    "    Point(double _x = 0.0, double _y = 0.0)\n",
    "    {\n",
    "        x = _x;\n",
    "        y = _y;   \n",
    "    }\n",
    "    Point operator-(Point p)\n",
    "    {\n",
    "       return Point(x - p.x,y - p.y);\n",
    "    }\n",
    "    double dist(Point q)\n",
    "    {\n",
    "        double z{};\n",
    "        Point hold {Point(x,y) - q};\n",
    "        double sq {pow(hold.x,2) + pow(hold.y,2)};\n",
    "        z = sqrt(sq);\n",
    "        return z;\n",
    "    }\n",
    "    Point operator+(Point p)\n",
    "    {\n",
    "       return Point(x + p.x,y + p.y);\n",
    "    }\n",
    "    Point print()\n",
    "    {\n",
    "        std::cout << \"(\" << x << \",\" << y << \")\" << std::endl;\n",
    "        return 0;\n",
    "    }\n",
    "};\n",
    "\n",
    "struct Line_Segment\n",
    "{\n",
    "    Point a;\n",
    "    Point b;\n",
    "    Line_Segment(Point _a, Point _b)\n",
    "    {\n",
    "        a = _a;\n",
    "        b = _b;\n",
    "    }\n",
    "    double anon(Line_Segment other)\n",
    "    {\n",
    "        Point c = b - a;\n",
    "        Point d = other.b - other.a;\n",
    "        return c.x * d.y - d.x*c.y;\n",
    "    }\n",
    "};"
   ]
  },
  {
   "cell_type": "markdown",
   "id": "e9551143",
   "metadata": {},
   "source": [
    "The `anon` member function within the `Line_Segment` structure allows us to find the cross product between 2 line segments. It does this by treating each line segment as a vector. The vector is defined by the `Point` structure (as fundementally this is not to dissimilar to a vector) and is computed by finding the difference between the points at the end of each line segment. Once the point/vector has been created the cross product is then computed, defined as\n",
    "$$ (a,b) \\times (c,d) = ad - bc .$$\n",
    "\n",
    "We can test this with some cases that we know the answer to and see if we get the correct answer. For example the vector $[1,2] \\times [3,4] = -2$. We shall make the $[1,2]$ vector as a line segment from $[0,0]$ to $[1,2]$, and $[3,4]$ as $[5,3]-[2,-1]$."
   ]
  },
  {
   "cell_type": "code",
   "execution_count": 3,
   "id": "4c1a1973",
   "metadata": {},
   "outputs": [
    {
     "name": "stdout",
     "output_type": "stream",
     "text": [
      "-2\n"
     ]
    },
    {
     "data": {
      "text/plain": [
       "(std::basic_ostream<char, std::char_traits<char> >::__ostream_type &) @0x7f5a483fd540\n"
      ]
     },
     "execution_count": 3,
     "metadata": {},
     "output_type": "execute_result"
    }
   ],
   "source": [
    "Point p1(0,0);\n",
    "Point p2(1,2);\n",
    "Point p3(2,-1);\n",
    "Point p4(5,3);\n",
    "Line_Segment ls1(p1,p2);\n",
    "Line_Segment ls2(p3,p4);\n",
    "std::cout << ls1.anon(ls2) << std::endl;"
   ]
  },
  {
   "cell_type": "markdown",
   "id": "64764369",
   "metadata": {},
   "source": [
    "This is the answer we expect to see."
   ]
  },
  {
   "cell_type": "markdown",
   "id": "b97a0bd3",
   "metadata": {},
   "source": [
    "## Part 2"
   ]
  },
  {
   "cell_type": "markdown",
   "id": "eb839142",
   "metadata": {},
   "source": [
    "To answer this question influence was taken from the following webstie:\n",
    "https://algorithmtutor.com/Computational-Geometry/Check-if-two-line-segment-intersect/"
   ]
  },
  {
   "cell_type": "markdown",
   "id": "73735630",
   "metadata": {},
   "source": [
    "Given 2 line segments, how can we find if they intersect or not? \n",
    "\n",
    "There are a series of checks we must make, the first of which is to check if the lines outright intersect each other in the middle of each line segment, i.e., the intersection happens at some point within each line segment and not at an end point. To do this, the website proposes to take the end point of one line segment, say `p1` (part of `Line_Segment(p1,p2)`) and check that point `p3` lies to the left, and `p4` lies to the right, or vice versa, with `p3`, `p4`, making their own line segment. Mathematically this is that the cross product is less than 0 for `p3` and grater than 0 for `p4`, or,\n",
    "\n",
    "$$ d_3 = (p_3 - p_1) \\times (p_2 - p_1) < 0\\,,$$\n",
    "$$ d_4 = (p_4 - p_1) \\times (p_2 - p_1) > 0\\,.$$\n",
    "\n",
    "If we reverse the perspective, and instead look at `p1` and `p2` as left or right turns from and end point on `Line_Segment(p3,p4)`, we have the following set of equations,\n",
    "\n",
    "$$ d_1 = (p_1 - p_3) \\times (p_4 - p_3) < 0\\,,$$\n",
    "$$ d_2 = (p_2 - p_3) \\times (p_4 - p_3) < 0\\,.$$\n",
    "\n",
    "We have retro-actively defined the cross products as $d_i$ and should be thought of as the 'direction' of a point in respect to the other line segment. Combining all the conditions we get the condition needed for two segments to intersect:\n",
    "\n",
    "$$ d_1 , d_4 < 0 \\text{ and } d_2 , d_3 > 0 \\,.$$\n",
    "\n",
    "However this isn't fully true as we dont always know what order the points are in, all we need for the lines to intersect is that points on the same line segment are in opposite directions in regard to the oposing line segment. So, taking into account multiple orientations of the points, we have the following condition:\n",
    "\n",
    "$$ (( d_1 < 0 < d_2 ) \\text{ or } (d_2 < 0 < d_1)) \\text{ and } (( d_3 < 0 < d_4 ) \\text{ or } (d_4 < 0 < d_3)) $$\n",
    "\n",
    "The other case we need to check is if that the end point of one line segment lies on the other line segment, as then there will be a single point of intersection but there will be a cross product of 0 during the condition check. If we know that one $d_i = 0$ then we already know this point is colinear with the opposite line segment, so we only need to know if the point's $x$ and $y$ values are within the range of the other line. For example say we get that $d_3 = 0$ then we check:\n",
    "\n",
    "$$ x_1 \\leq x_3 \\leq x_2 \\text{ and } y_1 \\leq y_3 \\leq y_2\\,.$$"
   ]
  },
  {
   "cell_type": "markdown",
   "id": "ad92624c",
   "metadata": {},
   "source": [
    "### Pseudo Code \n",
    "\n",
    "1. $\\textbf{Input}$: 2 Line segments, $l_1$ and $l_2$, defined as the lines from $p_1 = (x_1,y_1)$ to $p_2 = (x_2,y_2)$ and from $p_3 = (x_3,y_3)$ to $p_4 = (x_4,y_4)$.\n",
    "\n",
    "2. Compute:\n",
    "    $$ d_1 = (p_1 - p_3) \\times (p_4 - p_3)\\,, \\\\\n",
    "       d_2 = (p_2 - p_3) \\times (p_4 - p_3)\\,, \\\\\n",
    "       d_3 = (p_3 - p_1) \\times (p_2 - p_1)\\,, \\\\ \n",
    "       d_4 = (p_4 - p_1) \\times (p_2 - p_1)\\,, \\\\ $$\n",
    "3. If $(( d_1 < 0 < d_2 ) \\text{ or } (d_2 < 0 < d_1)) \\text{ and } (( d_3 < 0 < d_4 ) \\text{ or } (d_4 < 0 < d_3))$:\n",
    "        Return `TRUE`.\n",
    "Else if $d_1 = 0$ and $\\min(x_3,x_4) \\leq x_1 \\leq \\max(x_3,x_4)$ and $\\min(y_3,y_4) \\leq y_1 \\leq \\max(y_3,y_4)$:\n",
    "        Return `TRUE`.\n",
    "Else if $d_2= 0$ and $\\min(x_3,x_4) \\leq x_2 \\leq \\max(x_3,x_4)$ and $\\min(y_3,y_4) \\leq y_2 \\leq \\max(y_3,y_4)$:\n",
    "        Return `TRUE`.       \n",
    "Else if $d_3= 0$ and $\\min(x_1,x_2) \\leq x_3 \\leq \\max(x_1,x_2)$ and $\\min(y_1,y_2) \\leq y_3 \\leq \\max(y_1,y_2)$:\n",
    "        Return `TRUE`.  \n",
    "Else if $d_4= 0$ and $\\min(x_1,x_2) \\leq x_4 \\leq \\max(x_1,x_2)$ and $\\min(y_1,y_2) \\leq y_4 \\leq \\max(y_1,y_2)$:\n",
    "        Return `TRUE`.  \n",
    "Else:\n",
    "        Return `FALSE`."
   ]
  },
  {
   "cell_type": "markdown",
   "id": "dc40f84a",
   "metadata": {},
   "source": [
    "### C++ Code\n",
    "\n",
    "Below is the C++ code for the question, it involves 2 seperate functions. The first of which is just a simple function which lets us know if a point lies within the x and y range provided by 2 other points. While this function does not give much by itsself, if we know that $d_i = 0$ and the point lies in the range, we know that all 3 points are colinear, so an intersection does occur.\n",
    "\n",
    "The second function computes the cross product and checks if the lines straddle each other. The output is then a `TRUE/FALSE` statement telling us if an intersection does indeed take place."
   ]
  },
  {
   "cell_type": "code",
   "execution_count": 4,
   "id": "dea182f9",
   "metadata": {},
   "outputs": [
    {
     "data": {
      "text/plain": []
     },
     "execution_count": 4,
     "metadata": {},
     "output_type": "execute_result"
    }
   ],
   "source": [
    "bool on_seg(Point p1, Point p2, Point p) //function to find if a point lies within the range of 2 other points\n",
    "{\n",
    "    if( (std::min(p1.x,p2.x) <= p.x) && (p.x <= std::max(p1.x,p2.x)) && (std::min(p1.y,p2.y) <= p.y) && (p.y <= std::max(p1.y,p2.y)) )\n",
    "    {\n",
    "        return true; // if x is within domain and y is within range then true\n",
    "    }\n",
    "    else\n",
    "    {\n",
    "        return false; // else false\n",
    "    }\n",
    "}"
   ]
  },
  {
   "cell_type": "code",
   "execution_count": 5,
   "id": "6a251331",
   "metadata": {},
   "outputs": [
    {
     "data": {
      "text/plain": []
     },
     "execution_count": 5,
     "metadata": {},
     "output_type": "execute_result"
    }
   ],
   "source": [
    "bool intersect(Line_Segment ls_12, Line_Segment ls_34)\n",
    "{\n",
    "    //Create vectors from a common point of one line segment to the 2 end points of the other line segment\n",
    "    //Then compute cross product to determine the direction of end points in regard to other line segment\n",
    "\n",
    "    Line_Segment from_31(ls_34.a,ls_12.a);\n",
    "    double d1 = from_31.anon(ls_34);\n",
    "    \n",
    "    Line_Segment from_32(ls_34.a,ls_12.b);\n",
    "    double d2 = from_32.anon(ls_34);\n",
    "    \n",
    "    Line_Segment from_13(ls_12.a,ls_34.a);\n",
    "    double d3 = from_13.anon(ls_12);\n",
    "    \n",
    "    Line_Segment from_14(ls_12.a,ls_34.b);\n",
    "    double d4 = from_14.anon(ls_12);\n",
    "    \n",
    "    // If both sets of points lie either side of the opposing line segment then intersection occurs\n",
    "    \n",
    "    if( ( (d1 > 0 && d2 < 0) || (d1 < 0 && d2>0) ) && ( (d3>0 && d4<0) || (d3<0 && d4>0) ) )\n",
    "    {\n",
    "        return true;\n",
    "    }\n",
    "    else if( d1 == 0 &&  on_seg(ls_34.a,ls_34.b,ls_12.a)) //else test to see if the point lies within the segment\n",
    "    {\n",
    "        return true;\n",
    "    }\n",
    "    else if( d2 == 0 &&  on_seg(ls_34.a,ls_34.b,ls_12.b))\n",
    "    {\n",
    "        return true;\n",
    "    }\n",
    "    else if( d3 == 0 &&  on_seg(ls_12.a,ls_12.b,ls_34.a))\n",
    "    {\n",
    "        return true;\n",
    "    }\n",
    "    else if( d4 == 0 &&  on_seg(ls_12.a,ls_12.b,ls_34.b))\n",
    "    {\n",
    "        return true;\n",
    "    }\n",
    "    else\n",
    "    {\n",
    "        return false; \n",
    "    }\n",
    "}"
   ]
  },
  {
   "cell_type": "markdown",
   "id": "84c87d06",
   "metadata": {},
   "source": [
    "Below are some test cases with the expected result in the comments."
   ]
  },
  {
   "cell_type": "code",
   "execution_count": 6,
   "id": "8cd2e632",
   "metadata": {},
   "outputs": [
    {
     "name": "stdout",
     "output_type": "stream",
     "text": [
      "1\n",
      "1\n",
      "0\n",
      "1\n",
      "0\n"
     ]
    },
    {
     "data": {
      "text/plain": [
       "(std::basic_ostream<char, std::char_traits<char> >::__ostream_type &) @0x7f5a483fd540\n"
      ]
     },
     "execution_count": 6,
     "metadata": {},
     "output_type": "execute_result"
    }
   ],
   "source": [
    "Line_Segment test1_ls1(Point (-1,-1),Point (1,1));\n",
    "Line_Segment test1_ls2(Point (-1,1),Point (1,-1));\n",
    "std::cout << intersect(test1_ls1,test1_ls2) << std::endl; // should be true (1)\n",
    "\n",
    "Line_Segment test2_ls1(Point (-1,-1),Point (1,1));\n",
    "Line_Segment test2_ls2(Point (-1,1),Point (1,1));\n",
    "std::cout << intersect(test2_ls1,test2_ls2) << std::endl; // should be true (1)\n",
    "\n",
    "Line_Segment test3_ls1(Point (-1,-1),Point (1,1));\n",
    "Line_Segment test3_ls2(Point (-1,1),Point (0,1));\n",
    "std::cout << intersect(test3_ls1,test3_ls2) << std::endl; // should be False (0)\n",
    "\n",
    "Line_Segment test4_ls1(Point (-1,-1),Point (1,1));\n",
    "Line_Segment test4_ls2(Point (0,0),Point (2,2));\n",
    "std::cout << intersect(test4_ls1,test4_ls2) << std::endl; // should be true (1)\n",
    "\n",
    "Line_Segment test5_ls1(Point (0,0),Point (1,1));\n",
    "Line_Segment test5_ls2(Point (2,2),Point (3,3));\n",
    "std::cout << intersect(test5_ls1,test5_ls2) << std::endl; // should be False (0)"
   ]
  },
  {
   "cell_type": "markdown",
   "id": "6aa086b5",
   "metadata": {},
   "source": [
    "As we can see the code gives the expected answers for each test case."
   ]
  },
  {
   "cell_type": "markdown",
   "id": "d89a1789",
   "metadata": {},
   "source": [
    "## Part 3"
   ]
  },
  {
   "cell_type": "markdown",
   "id": "2fdb4cb5",
   "metadata": {},
   "source": [
    "### Jarvis March"
   ]
  },
  {
   "cell_type": "markdown",
   "id": "2d65d032",
   "metadata": {},
   "source": [
    "For this assessment I did not replicate the code I did in Python and instead found out how the Jarvis March algorithm works. Thus translating the code from https://algorithmtutor.com/Computational-Geometry/Convex-Hull-Algorithms-Jarvis-s-March/.\n",
    "We have the following code for the Jarvis March Algorithm."
   ]
  },
  {
   "cell_type": "code",
   "execution_count": 7,
   "id": "e147d01a",
   "metadata": {},
   "outputs": [
    {
     "data": {
      "text/plain": []
     },
     "execution_count": 7,
     "metadata": {},
     "output_type": "execute_result"
    }
   ],
   "source": [
    "std::vector<Point> Jarvis_March(std::vector<Point> points)\n",
    "{\n",
    "    std::vector<double> forleft {}; //empty vector to find left most\n",
    "    \n",
    "    for(auto& p : points)\n",
    "    {\n",
    "        forleft.push_back(p.x); //push values of p.x to the back of vector\n",
    "    }\n",
    "    \n",
    "    //find index for minimum x value in the forleft vector (distance from the begining to the minimum value)\n",
    "    int place = ( std::distance( std::begin(forleft), std::min_element(std::begin(forleft), std::end(forleft)) ));   \n",
    "    \n",
    "    //label left most point\n",
    "    Point leftmost (points[place]);\n",
    "    \n",
    "    int l = place; // let l be the index for where the left most point is in our vector\n",
    "    \n",
    "    std::vector<Point> Hull {leftmost}; // start the hull with the left most point\n",
    "    \n",
    "    while(true) \n",
    "    {\n",
    "        double q = (l + 1) % points.size(); //Use this to pick the point that comes next in the points vector\n",
    "        // % is the modolus function\n",
    "        \n",
    "        for (int i=0;i <= points.size();i++) //for all points\n",
    "        {\n",
    "            \n",
    "            if (i==1)\n",
    "            {\n",
    "                continue;\n",
    "            }\n",
    "            \n",
    "            //work out cross product of 2 line segments starting from point i and going to points l and q\n",
    "            // using the anom function that was provided\n",
    "            // this allows us to find out if we are \"turning\" left or right\n",
    "            double d = Line_Segment(points[l],points[i]).anon(Line_Segment(points[i],points[q]));\n",
    "            \n",
    "            //if we make a right turn or we are collinear with another point, skip the current point and keep marching from this next point\n",
    "            if( (d > 0) || ((d == 0) && (points[i].dist(points[l]) > points[q].dist(points[l]))))\n",
    "            {\n",
    "                q = i;\n",
    "            }\n",
    "        \n",
    "        }\n",
    "        \n",
    "        // if we dont find a right turn or a collinear point, then it must be in our hull\n",
    "        l = q;\n",
    "        \n",
    "        //if l is the left most, then we have made our hull so leave the while loop\n",
    "        if ( l == place )\n",
    "        {\n",
    "            break;\n",
    "        }\n",
    "        //else add it to the hull\n",
    "        Hull.push_back(points[q]);\n",
    "        \n",
    "        //start the while loop again with our new l\n",
    "    }\n",
    "    \n",
    "    //return the hull once we get back to the start\n",
    "    return Hull;\n",
    "\n",
    "}"
   ]
  },
  {
   "cell_type": "markdown",
   "id": "da031e04",
   "metadata": {},
   "source": [
    "We do 2 quick tests to make sure it is giving us back something we expect to see."
   ]
  },
  {
   "cell_type": "code",
   "execution_count": 8,
   "id": "4372da8e",
   "metadata": {},
   "outputs": [
    {
     "data": {
      "text/plain": []
     },
     "execution_count": 8,
     "metadata": {},
     "output_type": "execute_result"
    }
   ],
   "source": [
    "std::vector<Point> test_points {p1,p2,p3,p4,Point(0,10)};\n",
    "std::vector<Point> Convex {Jarvis_March(test_points)};"
   ]
  },
  {
   "cell_type": "code",
   "execution_count": 9,
   "id": "2d487397",
   "metadata": {},
   "outputs": [
    {
     "name": "stdout",
     "output_type": "stream",
     "text": [
      "Set of points\n",
      "(0,0)\n",
      "(1,2)\n",
      "(2,-1)\n",
      "(5,3)\n",
      "(0,10)\n",
      "Convex Hull:\n",
      "(0,0)\n",
      "(2,-1)\n",
      "(5,3)\n",
      "(0,10)\n"
     ]
    },
    {
     "data": {
      "text/plain": []
     },
     "execution_count": 9,
     "metadata": {},
     "output_type": "execute_result"
    }
   ],
   "source": [
    "std::cout << \"Set of points\" << std::endl;\n",
    "\n",
    "for(auto& p : test_points)\n",
    "{\n",
    "    p.print();\n",
    "}\n",
    "\n",
    "std::cout << \"Convex Hull:\" << std::endl;\n",
    "\n",
    "for(auto& p : Convex)\n",
    "{\n",
    "    p.print();\n",
    "}"
   ]
  },
  {
   "cell_type": "code",
   "execution_count": 10,
   "id": "96da0808",
   "metadata": {},
   "outputs": [
    {
     "name": "stdout",
     "output_type": "stream",
     "text": [
      "Set of points\n",
      "(-1,-1)\n",
      "(1,-1)\n",
      "(-1,1)\n",
      "(1,1)\n",
      "(0,0)\n",
      "(0,0)\n",
      "(0,0)\n",
      "(0,0)\n",
      "(0,0)\n",
      "(0,0)\n",
      "(0,0)\n",
      "(0,0)\n",
      "Convex Hull:\n",
      "(-1,-1)\n",
      "(1,-1)\n",
      "(1,1)\n",
      "(-1,1)\n"
     ]
    },
    {
     "data": {
      "text/plain": []
     },
     "execution_count": 10,
     "metadata": {},
     "output_type": "execute_result"
    }
   ],
   "source": [
    "std::vector<Point> newtest_points {Point(-1,-1),Point(1,-1),Point(-1,1),Point(1,1),Point(0,0),Point(0,0),Point(0,0),Point(0,0),Point(0,0),Point(0,0),Point(0,0),Point(0,0)};\n",
    "std::vector<Point> newConvex {Jarvis_March(newtest_points)};\n",
    "\n",
    "std::cout << \"Set of points\" << std::endl;\n",
    "\n",
    "for(auto& p : newtest_points)\n",
    "{\n",
    "    p.print();\n",
    "}\n",
    "\n",
    "std::cout << \"Convex Hull:\" << std::endl;\n",
    "\n",
    "for(auto& p : newConvex)\n",
    "{\n",
    "    p.print();\n",
    "}"
   ]
  },
  {
   "cell_type": "markdown",
   "id": "0edc9e66",
   "metadata": {},
   "source": [
    "We now compare this code to the similar Jarvis March function made in python with respect to the 5 Rs:\n",
    "\n",
    "1. $\\textbf{Replicable}$: Both Python and C++ codes match the conceptual description of performming a gift wrappping algorithm to find the convex hull of a set of points. However the C++ code is more closely linked to the actual Jarvis March algorithm, rather than finding the smallest angle between 2 points and and imaginary north/south point. I also hope that the comments in both make it easy to understand if anyone were to recreate/adapt the code.\n",
    "\n",
    "2. $\\textbf{Re-runnable}$: I believe both bits of code are easily re-runnable, although C++ would require you to restart the kernel! The C++ also only uses `std::` functions, so as long as there aren't major changes in different versions of C++ hopefully the code will still run in later versions of the language.\n",
    "\n",
    "3. $\\textbf{Repeatable}$: Nothing is random about the algorithm so the same output should be achived, and this is the case for both Python and C++ algorithms.\n",
    "\n",
    "4. $\\textbf{Reproducible}$: Once again nothing is random, or specific to the device the code is stored on, so if someone else were to take my Python or C++ code, it would be able to be ran and give exactly the same results. As long as both parties were using the same test case of points.\n",
    "\n",
    "5. $\\textbf{Reusable}$: Both bits of code are commented, so should be able to be used/adapted by others. However I think the C++ code perhaps has better and more clear instructions on what is happening at each line. So I think the C++ is slightly better in the regards of reusability."
   ]
  },
  {
   "cell_type": "markdown",
   "id": "b51df2ff",
   "metadata": {},
   "source": [
    "## Part 4"
   ]
  },
  {
   "cell_type": "markdown",
   "id": "4d3cad17",
   "metadata": {},
   "source": [
    "For a set of points $Q$ we want to look at every $i,j$ pair of points and then work out the distance and find the largest of them all, and provide the points that give the most. This idea will be replicated in the following pseudo code:"
   ]
  },
  {
   "cell_type": "markdown",
   "id": "2fab060f",
   "metadata": {},
   "source": [
    "1. $\\textbf{Input}$: Set of points $Q$\n",
    "2. $\\textbf{Initialize}$: Vector $D$ and Vector $P$\n",
    "3. For every pair of points, $i,j \\in Q$:\n",
    "        \n",
    "    Compute the euclidean distance, $d$, between the points:\n",
    "    $$ d = \\sqrt{(x_i - x_j)^2 + (y_i - y_j)^2} $$\n",
    "4. Let $D= \\max d$ and $P = \\text{argmax}_{(i,j)} D$\n",
    "5. Return point pair $i$ and $j$."
   ]
  },
  {
   "cell_type": "markdown",
   "id": "5e5cbf27",
   "metadata": {},
   "source": [
    "Eventhough the pseudo code only has one for loop, when implementing this into code we will actually have 2 for loops, one to simulate every $i$ in the point pair, and one for loop for every $j$. As the code will then have 2 for loops, one nested inside the other, we have a computational complexity of $O(n^2)$. This is because if we add one extra point, another $n*n$ number of checks will have to be made. One for $i$ and one for $j$.There is also some additional computation time due to having to fins the maximum of a vector and such. This complexity does not change so it is both the best and worst case scenario."
   ]
  },
  {
   "cell_type": "markdown",
   "id": "e85f77de",
   "metadata": {},
   "source": [
    "## Part 5"
   ]
  },
  {
   "cell_type": "markdown",
   "id": "cbcf2f38",
   "metadata": {},
   "source": [
    "The pseudo code above has been translated into C++:"
   ]
  },
  {
   "cell_type": "code",
   "execution_count": 11,
   "id": "d56f3429",
   "metadata": {},
   "outputs": [
    {
     "data": {
      "text/plain": []
     },
     "execution_count": 11,
     "metadata": {},
     "output_type": "execute_result"
    }
   ],
   "source": [
    "std::vector<Point> BigDist_BF(std::vector<Point> points)\n",
    "{\n",
    "    std::vector<double> biggestdists {}; // set up vector for largest distances from each point\n",
    "    std::vector<int> points_along {}; //vector to tell us how many points along the furthest point is\n",
    "    \n",
    "    for(int i = 0; i < points.size(); i++)\n",
    "    {\n",
    "        std::vector<double> disti {}; //set up vector for all distances from one point\n",
    "        \n",
    "        for(int j=i; j < points.size(); j++) //need only worry about distances from point i to i+1 and so on as others will be repeated\n",
    "        {\n",
    "            double currdist = points[i].dist(points[j]); //work out dist for i->j\n",
    "            disti.push_back(currdist); // append the current distance\n",
    "        }\n",
    "        \n",
    "        double max_curr =(*max_element(std::begin(disti), std::end(disti) )); //define the max current value as teh max in disti vector\n",
    "        biggestdists.push_back(max_curr); //put the largest distance from point i into our biggest distance vector\n",
    "        int j_place = ( std::distance( std::begin(disti), std::max_element(std::begin(disti), std::end(disti) ))); // which j was the furthest point from i?\n",
    "        points_along.push_back(j_place);\n",
    "        // we end up with 2 vectors, furthest next point on from i and how many points along that vector it is\n",
    "    }\n",
    "    \n",
    "    //now need to output the points\n",
    "    std::vector<Point> Output {};\n",
    "    \n",
    "    //find the place of i which gave the largest distance, and its corresponding point pair, j. \n",
    "    int place = ( std::distance( std::begin(biggestdists), std::max_element(std::begin(biggestdists), std::end(biggestdists) )));\n",
    "    Output.push_back(points[place]);\n",
    "    int along = points_along[place];\n",
    "    Output.push_back(points[place+along]);\n",
    "    \n",
    "    return Output;\n",
    "}"
   ]
  },
  {
   "cell_type": "markdown",
   "id": "a60634e5",
   "metadata": {},
   "source": [
    "A quick test to see if the code is working:"
   ]
  },
  {
   "cell_type": "code",
   "execution_count": 12,
   "id": "2d7e7627",
   "metadata": {},
   "outputs": [
    {
     "name": "stdout",
     "output_type": "stream",
     "text": [
      "(2,-1)\n",
      "(0,10)\n"
     ]
    },
    {
     "data": {
      "text/plain": []
     },
     "execution_count": 12,
     "metadata": {},
     "output_type": "execute_result"
    }
   ],
   "source": [
    "std::vector<Point> far {BigDist_BF(test_points)};\n",
    "for(auto& p : far)\n",
    "{\n",
    "    p.print();\n",
    "}"
   ]
  },
  {
   "cell_type": "markdown",
   "id": "26e12987",
   "metadata": {},
   "source": [
    "This code already has a slightly better complexity, but not enough to chaneg the $O$ notation than the pseudo code, due to the fact that our $j$ loop starts from point $i$ instead of going through every single point. This can be done as the distance from $i$ to $j$ is the same as the distance from $j$ to $i$."
   ]
  },
  {
   "cell_type": "markdown",
   "id": "4aaa445c",
   "metadata": {},
   "source": [
    "One possibility could be to perfom a gift wrapping algorithm first and then find the distance between only points on the hull. This could be better as for the Jarvis March algorithm we have complexity $O(nh)$ and then the 'brute force' on the hull would only be $O(h^2)$, resulting in a computational complexity of $O(nh + h^2)$. This would be amazing if all of our convex hull only had say 3 or 4 points, and would cut down on a lot of wasted time in brute force. \n",
    "\n",
    "However the worst case for this situation is a lot worse.  If we had that all our points in our set are also in the hull, the complexity suddenly becomes $O(n^2 + n^2)$ compared to the $O(n^2)$ of the brute force method. (But these are actually equal computational complexities.)\n",
    "\n",
    "So at worst it has the same complexity as brute force, and at best it has a lower complexity."
   ]
  }
 ],
 "metadata": {
  "kernelspec": {
   "display_name": "C++17",
   "language": "C++",
   "name": "cling-cpp17"
  },
  "language_info": {
   "codemirror_mode": "c++",
   "file_extension": ".c++",
   "mimetype": "text/x-c++src",
   "name": "c++"
  }
 },
 "nbformat": 4,
 "nbformat_minor": 5
}
