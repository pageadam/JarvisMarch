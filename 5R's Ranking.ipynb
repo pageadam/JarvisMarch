{
 "cells": [
  {
   "cell_type": "markdown",
   "id": "ccab5c45",
   "metadata": {},
   "source": [
    "| |Replicable | Reproducable | Repeatable | Rerunable | Reusable | Total|\n",
    "| :----------- | :-----------: | :-----------:| :-----------:| :-----------:| :-----------:|:-----------:|\n",
    "| Pseudo Code |   1    | 4  | 4  | 4 | 2 | 15 (4th) | \n",
    "| Python |   2   |  2  |  1 | 3 | 3 | 11 (2nd) |\n",
    "| C++ |   4   |  3  |  2 | 1 | 4 | 14 (3rd) |\n",
    "| R Package |   3   | 1  |  3 | 2 | 1 | 10 (1st)|"
   ]
  },
  {
   "cell_type": "markdown",
   "id": "abd9cb73",
   "metadata": {},
   "source": [
    "$\\textbf{Replicable:}$ Pseudo code is the most replicable form, as this allows other people to code the algorithm in their own way, without the influence of how I code. This may lead to people being able to code whilst avoiding mistakes and bugs I create. Python then comes second as it comes with the psuedo code and is the easier of the 2 languages for a human to understand at first read. This could allow other coders to improve/write their code in a \"better\" way than me. I have then ranked the R package above C++ as it will also eventually contain the psuedo code as well, and C++ is a hard language to understand whilst reading."
   ]
  },
  {
   "cell_type": "markdown",
   "id": "516bf89b",
   "metadata": {},
   "source": [
    "$\\textbf{Reproducable:}$ I have ranked the R package first, due to the fact that anyone can access it - while this is not actually reproducibility, it does allow people to get the code and do it themselves to get the same results. Whilst the other examples would have to be given by request. Psuedo code is last as it doesn't actually run, so whilst people could write their own code if wanted, they wouldnt be able to get results without writing it themselves. Python and C++ were both on par as neither relies on random numbers and both rely on a similar number of packages/headers from standard libraries, however I gave Python the second place as it is an easier language to read. So if a bug was created due to an update in version, it would hopefully be easier to fix."
   ]
  },
  {
   "cell_type": "markdown",
   "id": "efc19cd9",
   "metadata": {},
   "source": [
    "$\\textbf{Repeatable:}$ Once again psuedo code is last as it gives no results, so is hard to argue that is actually repeatable. Somewhat suprisingly, I have decided to put the R package third. I have chosen this as if someone were to just download the package, they would just have to hope it worked and wouldn't be able to add in extra print functions if they wanted to figure out how the code was working. Python and C++ are both on par again, as neither relies on the use of a random output and both are deterministic. However, I have decided to put python ahead, as it does not require the kernel to be restarted each time we wish to run the algorithm on the same set of points. So if, for some reason, an issue arises  due to rerunning the code, this would be found faster in Python. It is alos easier to print things in python rather than C++."
   ]
  },
  {
   "cell_type": "markdown",
   "id": "52837193",
   "metadata": {},
   "source": [
    "$\\textbf{Rerunable:}$ C++ has been ranked first, as it only relies on a few standard headers, which don't seem to change much from updated versions. This means hopefully, the C++ code shouldnt be affected much by updates. The R package slips into second as it is essentially C++, and should have all dependancies listed, but if an issue does arrive, it would be hard for an outsider to come in and get hands on with the code in order to debug it in the future. Python comes in third as it relies on some libraries which seem to change version to version slightly more than C++, but nothing drastic. Then psuedo code comes in last, as although it is by far the most future proof (as long as the English language doesn't get updated!), it cannot be re-ran. "
   ]
  },
  {
   "cell_type": "markdown",
   "id": "514236c1",
   "metadata": {},
   "source": [
    "$\\textbf{Reusable:}$ I think that the R package is the most reusable out of the 4 as it is hosted on GitHub, which means anyone could pull the version they wanted, reuse it and make it their own without the need for me. I have then decided to put psuedo code second as although it isn't able to run, it would allow anyone to come in read the psuedo code and make their own code from it, not being limited to my ability as a coder. Or even if I came back to the algorithm at a later date, where I may be a more experienced coder. I then placed Python ahead of C++ as even though both are well commented to try and explain what is going on, pyhton is a bit easier to understand, so if someone else wanted to change the code they would be able to do so as needed."
   ]
  }
 ],
 "metadata": {
  "kernelspec": {
   "display_name": "C++17",
   "language": "C++",
   "name": "cling-cpp17"
  },
  "language_info": {
   "codemirror_mode": "c++",
   "file_extension": ".c++",
   "mimetype": "text/x-c++src",
   "name": "c++"
  }
 },
 "nbformat": 4,
 "nbformat_minor": 5
}
